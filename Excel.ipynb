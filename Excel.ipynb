{
 "cells": [
  {
   "cell_type": "code",
   "execution_count": 20,
   "metadata": {},
   "outputs": [],
   "source": [
    "from openpyxl import Workbook, styles\n",
    "import random\n",
    "from datetime import datetime"
   ]
  },
  {
   "cell_type": "code",
   "execution_count": 9,
   "metadata": {},
   "outputs": [],
   "source": [
    "wb = Workbook()"
   ]
  },
  {
   "cell_type": "code",
   "execution_count": 10,
   "metadata": {},
   "outputs": [],
   "source": [
    "ws = wb.active\n",
    "ws['A1'] = 42"
   ]
  },
  {
   "cell_type": "code",
   "execution_count": 23,
   "metadata": {},
   "outputs": [],
   "source": [
    "names = ['Mila', 'Jonas', 'Feriba', 'Kim', 'Rosanna', 'Karl']\n",
    "grades = ['Gold', 'Silver', 'Bronze']\n",
    "\n",
    "ws.cell(row=2, column = 1).value = 'Salesperson'\n",
    "ws.cell(row=2, column=1).font = styles.Font(bold=True, italic=True)\n",
    "ws.column_dimensions['A'].width = 20\n",
    "ws.cell(row=2, column = 2).value = 'Grade'\n",
    "ws.cell(row=2, column = 3).value = 'Value'\n",
    "\n",
    "\n",
    "for row in range(3, 20):\n",
    "    ws.cell(row=row, column=1).value = random.choice(names)\n",
    "    ws.cell(row=row, column=2).value = random.choice(grades)\n",
    "    ws.cell(row=row, column=3).value = random.randrange(start=1000, stop=25000)\n",
    "    ws.cell(row=row, column=3).number_format = '#,##0.00 kr'"
   ]
  },
  {
   "cell_type": "code",
   "execution_count": 24,
   "metadata": {},
   "outputs": [],
   "source": [
    "ws.cell(row=20, column=3).value = \"=sum(c3:c19)\""
   ]
  },
  {
   "cell_type": "code",
   "execution_count": 41,
   "metadata": {},
   "outputs": [],
   "source": [
    "wb.save('output.xlsx')"
   ]
  },
  {
   "cell_type": "code",
   "execution_count": 31,
   "metadata": {},
   "outputs": [],
   "source": [
    "with open('input.txt', mode='r') as fp:\n",
    "    txt = fp.read()"
   ]
  },
  {
   "cell_type": "code",
   "execution_count": 32,
   "metadata": {},
   "outputs": [
    {
     "data": {
      "text/plain": [
       "'kim;200\\nmila;300\\njonas;100'"
      ]
     },
     "execution_count": 32,
     "metadata": {},
     "output_type": "execute_result"
    }
   ],
   "source": [
    "txt"
   ]
  },
  {
   "cell_type": "code",
   "execution_count": 40,
   "metadata": {},
   "outputs": [],
   "source": [
    "lines = txt.split('\\n')\n",
    "offset_row = 2\n",
    "offset_col = 5\n",
    "for idx, line in enumerate(lines):\n",
    "    items = line.split(';')\n",
    "    #print(f\"{items[0]} har scoren {items[1]}\")\n",
    "    ws.cell(row = idx + offset_row, column = offset_col).value = items[0]\n",
    "    ws.cell(row = idx + offset_row, column = offset_col + 1).value = items[1]\n",
    "    \n"
   ]
  },
  {
   "cell_type": "code",
   "execution_count": 38,
   "metadata": {},
   "outputs": [
    {
     "name": "stdout",
     "output_type": "stream",
     "text": [
      "[1] mila\n",
      "[2] jonas\n",
      "[3] feriba\n",
      "[4] kim\n"
     ]
    }
   ],
   "source": [
    "l = ['mila', 'jonas', 'feriba', 'kim']\n",
    "for idx, item in enumerate(l, start=1):\n",
    "    print(f\"[{idx}] {item}\")"
   ]
  },
  {
   "cell_type": "code",
   "execution_count": null,
   "metadata": {},
   "outputs": [],
   "source": []
  }
 ],
 "metadata": {
  "interpreter": {
   "hash": "be6b21d5493407924ed930fbc8fb01b19fd68f454bd78cf701cfa24896befe43"
  },
  "kernelspec": {
   "display_name": "Python 3.9.6 ('venv': venv)",
   "language": "python",
   "name": "python3"
  },
  "language_info": {
   "codemirror_mode": {
    "name": "ipython",
    "version": 3
   },
   "file_extension": ".py",
   "mimetype": "text/x-python",
   "name": "python",
   "nbconvert_exporter": "python",
   "pygments_lexer": "ipython3",
   "version": "3.10.2"
  },
  "orig_nbformat": 4
 },
 "nbformat": 4,
 "nbformat_minor": 2
}
