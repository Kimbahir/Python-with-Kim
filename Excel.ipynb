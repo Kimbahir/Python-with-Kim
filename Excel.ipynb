{
 "cells": [
  {
   "cell_type": "code",
   "execution_count": 5,
   "metadata": {},
   "outputs": [],
   "source": [
    "from openpyxl import Workbook\n",
    "import random"
   ]
  },
  {
   "cell_type": "code",
   "execution_count": 3,
   "metadata": {},
   "outputs": [],
   "source": [
    "wb = Workbook()"
   ]
  },
  {
   "cell_type": "code",
   "execution_count": 4,
   "metadata": {},
   "outputs": [],
   "source": [
    "ws = wb.active\n",
    "ws['A1'] = 42"
   ]
  },
  {
   "cell_type": "code",
   "execution_count": 6,
   "metadata": {},
   "outputs": [],
   "source": [
    "names = ['Mila', 'Jonas', 'Feriba', 'Kim']\n",
    "grades = ['Gold', 'Silver', 'Bronze']\n",
    "\n",
    "ws.cell(row=2, column = 1).value = 'Salesperson'\n",
    "ws.cell(row=2, column = 2).value = 'Grade'\n",
    "ws.cell(row=2, column = 3).value = 'Value'\n",
    "\n",
    "for row in range(3, 20):\n",
    "    ws.cell(row=row, column=1).value = random.choice(names)\n",
    "    ws.cell(row=row, column=2).value = random.choice(grades)\n",
    "    ws.cell(row=row, column=3).value = random.randrange(start=1000, stop=10000)"
   ]
  },
  {
   "cell_type": "code",
   "execution_count": 7,
   "metadata": {},
   "outputs": [],
   "source": [
    "wb.save('output.xlsx')"
   ]
  },
  {
   "cell_type": "code",
   "execution_count": null,
   "metadata": {},
   "outputs": [],
   "source": []
  }
 ],
 "metadata": {
  "interpreter": {
   "hash": "be6b21d5493407924ed930fbc8fb01b19fd68f454bd78cf701cfa24896befe43"
  },
  "kernelspec": {
   "display_name": "Python 3.9.6 ('venv': venv)",
   "language": "python",
   "name": "python3"
  },
  "language_info": {
   "codemirror_mode": {
    "name": "ipython",
    "version": 3
   },
   "file_extension": ".py",
   "mimetype": "text/x-python",
   "name": "python",
   "nbconvert_exporter": "python",
   "pygments_lexer": "ipython3",
   "version": "3.9.6"
  },
  "orig_nbformat": 4
 },
 "nbformat": 4,
 "nbformat_minor": 2
}
